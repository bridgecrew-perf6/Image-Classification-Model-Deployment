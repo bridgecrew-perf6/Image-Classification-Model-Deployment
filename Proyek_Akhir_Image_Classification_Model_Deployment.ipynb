{
  "nbformat": 4,
  "nbformat_minor": 0,
  "metadata": {
    "colab": {
      "name": "Proyek Akhir : Image Classification Model Deployment.ipynb",
      "provenance": [],
      "mount_file_id": "1COMtZHQrXUfv3z_SpZ13YuHf7TofXOkn",
      "authorship_tag": "ABX9TyPZg0cwiU3U0clBsSzBJDt7",
      "include_colab_link": true
    },
    "kernelspec": {
      "name": "python3",
      "display_name": "Python 3"
    },
    "language_info": {
      "name": "python"
    }
  },
  "cells": [
    {
      "cell_type": "markdown",
      "metadata": {
        "id": "view-in-github",
        "colab_type": "text"
      },
      "source": [
        "<a href=\"https://colab.research.google.com/github/daniahmad92/Image-Classification-Model-Deployment/blob/main/Proyek_Akhir_Image_Classification_Model_Deployment.ipynb\" target=\"_parent\"><img src=\"https://colab.research.google.com/assets/colab-badge.svg\" alt=\"Open In Colab\"/></a>"
      ]
    },
    {
      "cell_type": "markdown",
      "source": [
        "**Data Diri:**\n",
        "\n",
        "Nama : Dadan Ahmad Dani\n",
        "\n",
        "Email : email@dadanahmaddani.com\n",
        "\n",
        "\n",
        "**Submission**\n",
        "\n",
        "Proyek Akhir : Image Classification Model Deployment\n",
        "\n",
        "mengembangkan model ML untuk klasifikasi gambar kemudian mengkonversi model tersebut ke dalam format berkas TF-Lite yang dapat di embed di Android dan iOS"
      ],
      "metadata": {
        "id": "TcXpqBeczYeT"
      }
    },
    {
      "cell_type": "markdown",
      "source": [
        "**Libarary**"
      ],
      "metadata": {
        "id": "QiwshCF0z8Rl"
      }
    },
    {
      "cell_type": "code",
      "execution_count": 62,
      "metadata": {
        "id": "1DpdNhPEg-j9"
      },
      "outputs": [],
      "source": [
        "import tensorflow as tf\n",
        "from keras.preprocessing.image import ImageDataGenerator\n",
        "from keras.models import Sequential\n",
        "from keras.layers import Conv2D, MaxPooling2D\n",
        "from keras.layers import Activation, Dropout, Flatten, Dense\n",
        "from keras import backend as K\n",
        "\n",
        "img_width, img_height = 224, 224"
      ]
    },
    {
      "cell_type": "markdown",
      "source": [
        "**Dataset**"
      ],
      "metadata": {
        "id": "-sfSvSab0Bgc"
      }
    },
    {
      "cell_type": "code",
      "source": [
        "train_data_dir = '/content/drive/MyDrive/DATASET/v_data/train'\n",
        "validation_data_dir = '/content/drive/MyDrive/DATASET/v_data/test'\n",
        "\n",
        "epochs = 10\n",
        "batch_size = 16"
      ],
      "metadata": {
        "id": "J-lpB_QvhuN7"
      },
      "execution_count": 63,
      "outputs": []
    },
    {
      "cell_type": "markdown",
      "source": [
        "**Data Train dan Evaluasi**"
      ],
      "metadata": {
        "id": "ZUrNSZmM0T70"
      }
    },
    {
      "cell_type": "code",
      "source": [
        "train_datagen = ImageDataGenerator(\n",
        "\trescale=1. / 255,\n",
        "\tshear_range=0.2,\n",
        "\tzoom_range=0.2,\n",
        "\thorizontal_flip=True)\n",
        "\n",
        "test_datagen = ImageDataGenerator(rescale=1. / 255)"
      ],
      "metadata": {
        "id": "G_yHQ7gAjoEK"
      },
      "execution_count": 64,
      "outputs": []
    },
    {
      "cell_type": "code",
      "source": [
        "train_generator = train_datagen.flow_from_directory(\n",
        "\ttrain_data_dir,\n",
        "\ttarget_size=(img_width, img_height),\n",
        "\tbatch_size=batch_size,\n",
        "\tclass_mode='binary')\n",
        "\n",
        "validation_generator = test_datagen.flow_from_directory(\n",
        "\tvalidation_data_dir,\n",
        "\ttarget_size=(img_width, img_height),\n",
        "\tbatch_size=batch_size,\n",
        "\tclass_mode='binary')"
      ],
      "metadata": {
        "id": "RAt0kCXrjuq2"
      },
      "execution_count": null,
      "outputs": []
    },
    {
      "cell_type": "code",
      "source": [
        "if K.image_data_format() == 'channels_first':\n",
        "\tinput_shape = (3, img_width, img_height)\n",
        "else:\n",
        "\tinput_shape = (img_width, img_height, 3)\n"
      ],
      "metadata": {
        "id": "sRuYP-Obh4lm"
      },
      "execution_count": 66,
      "outputs": []
    },
    {
      "cell_type": "markdown",
      "source": [
        "**Pemodelan**"
      ],
      "metadata": {
        "id": "h_7PS1iY0Xkj"
      }
    },
    {
      "cell_type": "code",
      "source": [
        "model = Sequential()\n",
        "model.add(Conv2D(32, (2, 2), input_shape=input_shape))\n",
        "model.add(Activation('relu'))\n",
        "model.add(MaxPooling2D(pool_size=(2, 2)))\n",
        "\n",
        "model.add(Conv2D(32, (2, 2)))\n",
        "model.add(Activation('relu'))\n",
        "model.add(MaxPooling2D(pool_size=(2, 2)))\n",
        "\n",
        "model.add(Conv2D(64, (2, 2)))\n",
        "model.add(Activation('relu'))\n",
        "model.add(MaxPooling2D(pool_size=(2, 2)))\n",
        "\n",
        "model.add(Flatten())\n",
        "model.add(Dense(64))\n",
        "model.add(Activation('relu'))\n",
        "model.add(Dropout(0.5))\n",
        "model.add(Dense(1))\n",
        "model.add(Activation('sigmoid'))\n"
      ],
      "metadata": {
        "id": "JE6IAy2Ph96c"
      },
      "execution_count": 67,
      "outputs": []
    },
    {
      "cell_type": "code",
      "source": [
        "model.compile(loss='binary_crossentropy',\n",
        "\t\t\toptimizer='rmsprop',\n",
        "\t\t\tmetrics=['accuracy'])"
      ],
      "metadata": {
        "id": "zoqkArd7h_t-"
      },
      "execution_count": 68,
      "outputs": []
    },
    {
      "cell_type": "markdown",
      "source": [
        "**Latih Model (menggunakan Callback)**"
      ],
      "metadata": {
        "id": "G2CtbyyC0fXM"
      }
    },
    {
      "cell_type": "code",
      "source": [
        "class myCallback(tf.keras.callbacks.Callback):\n",
        "  def on_epoch_end(self, epoch, logs={}):\n",
        "    if(logs.get('accuracy') > 0.97):\n",
        "      print(\"\\nAkurasi melewati 97%, hentikan proses training!\")\n",
        "      self.model.stop_training = True\n",
        "\n",
        "callbacks = myCallback()"
      ],
      "metadata": {
        "id": "hRVFeNDkrmOU"
      },
      "execution_count": 69,
      "outputs": []
    },
    {
      "cell_type": "code",
      "source": [
        "history = model.fit(\n",
        "    train_generator,\n",
        "    epochs=epochs,\n",
        "    validation_data=validation_generator,\n",
        "    verbose =1,\n",
        "    callbacks=[callbacks]\n",
        ")"
      ],
      "metadata": {
        "colab": {
          "base_uri": "https://localhost:8080/"
        },
        "id": "FbGqb1jHmstj",
        "outputId": "8bbbbec0-9646-48a9-9e5b-c3d751d11a92"
      },
      "execution_count": 70,
      "outputs": [
        {
          "output_type": "stream",
          "name": "stdout",
          "text": [
            "Epoch 1/10\n",
            "25/25 [==============================] - 26s 1s/step - loss: 0.7628 - accuracy: 0.6425 - val_loss: 0.8266 - val_accuracy: 0.6300\n",
            "Epoch 2/10\n",
            "25/25 [==============================] - 22s 886ms/step - loss: 0.5032 - accuracy: 0.7675 - val_loss: 0.2293 - val_accuracy: 0.9100\n",
            "Epoch 3/10\n",
            "25/25 [==============================] - 23s 919ms/step - loss: 0.4422 - accuracy: 0.8050 - val_loss: 0.2462 - val_accuracy: 0.9100\n",
            "Epoch 4/10\n",
            "25/25 [==============================] - 22s 889ms/step - loss: 0.4101 - accuracy: 0.8150 - val_loss: 0.3437 - val_accuracy: 0.8300\n",
            "Epoch 5/10\n",
            "25/25 [==============================] - 22s 886ms/step - loss: 0.3478 - accuracy: 0.8575 - val_loss: 0.5673 - val_accuracy: 0.7300\n",
            "Epoch 6/10\n",
            "25/25 [==============================] - 22s 886ms/step - loss: 0.3350 - accuracy: 0.8425 - val_loss: 0.2784 - val_accuracy: 0.8900\n",
            "Epoch 7/10\n",
            "25/25 [==============================] - 22s 887ms/step - loss: 0.3073 - accuracy: 0.8600 - val_loss: 0.2905 - val_accuracy: 0.8700\n",
            "Epoch 8/10\n",
            "25/25 [==============================] - 22s 888ms/step - loss: 0.2870 - accuracy: 0.8975 - val_loss: 0.3984 - val_accuracy: 0.8000\n",
            "Epoch 9/10\n",
            "25/25 [==============================] - 23s 894ms/step - loss: 0.3441 - accuracy: 0.8750 - val_loss: 0.2593 - val_accuracy: 0.9100\n",
            "Epoch 10/10\n",
            "25/25 [==============================] - 22s 887ms/step - loss: 0.2687 - accuracy: 0.8850 - val_loss: 0.3524 - val_accuracy: 0.8600\n"
          ]
        }
      ]
    },
    {
      "cell_type": "markdown",
      "source": [
        "**Plot Accuracy dan Loss**"
      ],
      "metadata": {
        "id": "a51qM8Te0i-x"
      }
    },
    {
      "cell_type": "code",
      "source": [
        "import matplotlib.pyplot as plt\n",
        "\n",
        "# plot accuracy train & validation\n",
        "plt.plot(history.history['accuracy'], 'r', label='Training Accuracy')\n",
        "plt.plot(history.history['val_accuracy'], 'b', label='Validation Accuracy')\n",
        "plt.title('Accuracy & Validation Accuracy')\n",
        "plt.ylabel('Value')\n",
        "plt.xlabel('Epoch')\n",
        "plt.legend(loc=\"lower right\")\n",
        "plt.show()"
      ],
      "metadata": {
        "colab": {
          "base_uri": "https://localhost:8080/",
          "height": 295
        },
        "id": "ggACOcjxuFqL",
        "outputId": "acd7320b-4b95-4e1e-8584-141c0407c1de"
      },
      "execution_count": 81,
      "outputs": [
        {
          "output_type": "display_data",
          "data": {
            "text/plain": [
              "<Figure size 432x288 with 1 Axes>"
            ],
            "image/png": "[encoded data removed]"
          },
          "metadata": {
            "needs_background": "light"
          }
        }
      ]
    },
    {
      "cell_type": "code",
      "source": [
        "# plot loss train & validation\n",
        "plt.plot(history.history['loss'], 'r', label='Training Loss')\n",
        "plt.plot(history.history['val_loss'], 'b', label='Validation Loss')\n",
        "plt.title('Loss & Validation Loss')\n",
        "plt.ylabel('Value')\n",
        "plt.xlabel('Epoch')\n",
        "plt.legend(loc=\"upper right\")\n",
        "plt.show()"
      ],
      "metadata": {
        "colab": {
          "base_uri": "https://localhost:8080/",
          "height": 295
        },
        "id": "85phJtEK1YOg",
        "outputId": "29d03c7c-98da-4427-ccbf-c5adf86c2c3a"
      },
      "execution_count": 82,
      "outputs": [
        {
          "output_type": "display_data",
          "data": {
            "text/plain": [
              "<Figure size 432x288 with 1 Axes>"
            ],
            "image/png": "[encoded data removed]"
          },
          "metadata": {
            "needs_background": "light"
          }
        }
      ]
    },
    {
      "cell_type": "markdown",
      "source": [
        "**menyimpan model ke dalam format TF-Lite**"
      ],
      "metadata": {
        "id": "ldbAoN0R02WA"
      }
    },
    {
      "cell_type": "code",
      "source": [
        "# Menyimpan model dalam format SavedModel\n",
        "import pathlib\n",
        "export_dir = 'file_export/'\n",
        "tf.saved_model.save(model, export_dir)\n",
        " \n",
        "# Convert SavedModel menjadi vegs.tflite\n",
        "converter = tf.lite.TFLiteConverter.from_saved_model(export_dir)\n",
        "tflite_model = converter.convert()\n",
        " \n",
        "tflite_model_file = pathlib.Path('notebook.tflite')\n",
        "tflite_model_file.write_bytes(tflite_model)"
      ],
      "metadata": {
        "colab": {
          "base_uri": "https://localhost:8080/"
        },
        "id": "TiKQGztEwt_w",
        "outputId": "3f13ebfa-e902-419c-c0e4-f98f1db02e12"
      },
      "execution_count": 83,
      "outputs": [
        {
          "output_type": "stream",
          "name": "stdout",
          "text": [
            "INFO:tensorflow:Assets written to: file_export/assets\n"
          ]
        },
        {
          "output_type": "stream",
          "name": "stderr",
          "text": [
            "INFO:tensorflow:Assets written to: file_export/assets\n",
            "WARNING:absl:Buffer deduplication procedure will be skipped when flatbuffer library is not properly loaded\n"
          ]
        },
        {
          "output_type": "execute_result",
          "data": {
            "text/plain": [
              "11999404"
            ]
          },
          "metadata": {},
          "execution_count": 83
        }
      ]
    }
  ]
}